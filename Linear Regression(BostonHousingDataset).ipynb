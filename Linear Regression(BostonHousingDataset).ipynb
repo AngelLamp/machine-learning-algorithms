{
 "cells": [
  {
   "cell_type": "markdown",
   "metadata": {
    "id": "yjV4clA2kK_9"
   },
   "source": [
    "## **M916 - Machine Learning**\n",
    "## **Coursework 1**"
   ]
  },
  {
   "cell_type": "code",
   "execution_count": 1,
   "metadata": {
    "executionInfo": {
     "elapsed": 19,
     "status": "ok",
     "timestamp": 1744656129042,
     "user": {
      "displayName": "Άγγελος Λαμπαδάρης",
      "userId": "00875527675193121190"
     },
     "user_tz": -180
    },
    "id": "RNxf4z9jilna"
   },
   "outputs": [],
   "source": [
    "import numpy as np"
   ]
  },
  {
   "cell_type": "code",
   "execution_count": null,
   "metadata": {
    "executionInfo": {
     "elapsed": 6,
     "status": "ok",
     "timestamp": 1744656129091,
     "user": {
      "displayName": "Άγγελος Λαμπαδάρης",
      "userId": "00875527675193121190"
     },
     "user_tz": -180
    },
    "id": "fULt4A0-m6D_"
   },
   "outputs": [],
   "source": [
    "SEED = np.random.seed(7) # set a seed for reproducible results"
   ]
  },
  {
   "cell_type": "markdown",
   "metadata": {
    "id": "iCQp14wSw0pD"
   },
   "source": [
    "## **1 Vector and Matrices**"
   ]
  },
  {
   "cell_type": "markdown",
   "metadata": {},
   "source": [
    "In this section we make a series of vectors's and matrices's operations"
   ]
  },
  {
   "cell_type": "code",
   "execution_count": 3,
   "metadata": {
    "executionInfo": {
     "elapsed": 1,
     "status": "ok",
     "timestamp": 1744656129099,
     "user": {
      "displayName": "Άγγελος Λαμπαδάρης",
      "userId": "00875527675193121190"
     },
     "user_tz": -180
    },
    "id": "HCVFWD_Ek6_s"
   },
   "outputs": [],
   "source": [
    "# 1 Vector and Matrices\n",
    "\n",
    "X = np.random.randint(10, size=(3,4))\n",
    "Y = np.random.randint(10, size=(4,3))\n",
    "\n",
    "g = np.random.randint(10, size=4)\n",
    "z = np.random.randint(10, size=4)"
   ]
  },
  {
   "cell_type": "code",
   "execution_count": 4,
   "metadata": {
    "colab": {
     "base_uri": "https://localhost:8080/"
    },
    "executionInfo": {
     "elapsed": 8,
     "status": "ok",
     "timestamp": 1744656129113,
     "user": {
      "displayName": "Άγγελος Λαμπαδάρης",
      "userId": "00875527675193121190"
     },
     "user_tz": -180
    },
    "id": "ryJV3EKklz8o",
    "outputId": "a93278b6-cdc6-4ec2-c115-85664048b1f0"
   },
   "outputs": [
    {
     "name": "stdout",
     "output_type": "stream",
     "text": [
      "X: \n",
      " [[4 9 6 3]\n",
      " [3 7 7 9]\n",
      " [7 8 9 8]] \n",
      "\n",
      "Y: \n",
      " [[7 6 4]\n",
      " [0 7 0]\n",
      " [7 6 3]\n",
      " [5 8 8]] \n",
      "\n",
      "g: \n",
      " [7 5 0 0] \n",
      "\n",
      "z: \n",
      " [2 8 9 6] \n",
      "\n"
     ]
    }
   ],
   "source": [
    "print('X:', '\\n', X, '\\n')\n",
    "print('Y:', '\\n', Y, '\\n')\n",
    "print('g:', '\\n', g, '\\n')\n",
    "print('z:', '\\n', z, '\\n')"
   ]
  },
  {
   "cell_type": "code",
   "execution_count": 5,
   "metadata": {
    "colab": {
     "base_uri": "https://localhost:8080/"
    },
    "executionInfo": {
     "elapsed": 68,
     "status": "ok",
     "timestamp": 1744656129183,
     "user": {
      "displayName": "Άγγελος Λαμπαδάρης",
      "userId": "00875527675193121190"
     },
     "user_tz": -180
    },
    "id": "Hqu5HHlxWuIM",
    "outputId": "9159cf2a-4cd2-43fe-f917-9361e4af9054"
   },
   "outputs": [
    {
     "name": "stdout",
     "output_type": "stream",
     "text": [
      "vectors g,z:  \n",
      " 54 \n",
      "\n",
      "vectors g^T*z:  \n",
      " 54 \n",
      "\n",
      "X, g:  \n",
      " [73 56 89] \n",
      "\n",
      "X, Y:  \n",
      " [[ 85 147  58]\n",
      " [115 181 105]\n",
      " [152 216 119]]\n"
     ]
    }
   ],
   "source": [
    "# inner product (g,z)\n",
    "\n",
    "inner_g_z = np.dot(g,z)\n",
    "print('vectors g,z: ', '\\n', inner_g_z, '\\n')\n",
    "\n",
    "print('vectors g^T*z: ', '\\n', np.dot(g.T, z), '\\n')\n",
    "\n",
    "# matrix - vector\n",
    "\n",
    "mat_vec_x_g = np.dot(X, g)\n",
    "print('X, g: ', '\\n', mat_vec_x_g, '\\n')\n",
    "\n",
    "# matrix - vector\n",
    "\n",
    "mat_mat_x_y = np.dot(X, Y)\n",
    "print('X, Y: ', '\\n', mat_mat_x_y)"
   ]
  },
  {
   "cell_type": "code",
   "execution_count": 6,
   "metadata": {
    "colab": {
     "base_uri": "https://localhost:8080/"
    },
    "executionInfo": {
     "elapsed": 33,
     "status": "ok",
     "timestamp": 1744656129216,
     "user": {
      "displayName": "Άγγελος Λαμπαδάρης",
      "userId": "00875527675193121190"
     },
     "user_tz": -180
    },
    "id": "MHxvvniSE_c5",
    "outputId": "f7d2c3e9-c921-4164-b7dc-8f2c7fdf37e2"
   },
   "outputs": [
    {
     "name": "stdout",
     "output_type": "stream",
     "text": [
      "Frobenius norm of X:  24.24871130596428\n",
      "Frobenius norm of Y:  19.924858845171276\n"
     ]
    }
   ],
   "source": [
    "# Frobenius norms\n",
    "\n",
    "xfrob = np.linalg.norm(X, 'fro')\n",
    "yfrob = np.linalg.norm(Y, 'fro')\n",
    "\n",
    "print('Frobenius norm of X: ', xfrob)\n",
    "print('Frobenius norm of Y: ', yfrob)"
   ]
  },
  {
   "cell_type": "markdown",
   "metadata": {
    "id": "tPCvZg0glGew"
   },
   "source": [
    "## **Linear Regression**"
   ]
  },
  {
   "cell_type": "code",
   "execution_count": 7,
   "metadata": {
    "executionInfo": {
     "elapsed": 11837,
     "status": "ok",
     "timestamp": 1744656141054,
     "user": {
      "displayName": "Άγγελος Λαμπαδάρης",
      "userId": "00875527675193121190"
     },
     "user_tz": -180
    },
    "id": "X1ZZ3BuORbIG"
   },
   "outputs": [],
   "source": [
    "import matplotlib.pyplot as plt\n",
    "import pandas as pd\n",
    "import sklearn as sk\n",
    "import seaborn as sns"
   ]
  },
  {
   "cell_type": "code",
   "execution_count": null,
   "metadata": {
    "executionInfo": {
     "elapsed": 1107,
     "status": "ok",
     "timestamp": 1744656142152,
     "user": {
      "displayName": "Άγγελος Λαμπαδάρης",
      "userId": "00875527675193121190"
     },
     "user_tz": -180
    },
    "id": "VP4D9dXKv97Q"
   },
   "outputs": [],
   "source": [
    "# Linear Regression\n",
    "\n",
    "multivar = '/content/drive/MyDrive/ML/data/multivariate_linear_regression.txt' # insert your own data file path for linear regression\n",
    "\n",
    "data = pd.read_csv(multivar, header=None)\n",
    "\n",
    "temp = data.to_numpy()\n",
    "\n",
    "X = temp[:,:-1]\n",
    "y = temp[:,-1]"
   ]
  },
  {
   "cell_type": "code",
   "execution_count": 9,
   "metadata": {
    "executionInfo": {
     "elapsed": 2580,
     "status": "ok",
     "timestamp": 1744656144745,
     "user": {
      "displayName": "Άγγελος Λαμπαδάρης",
      "userId": "00875527675193121190"
     },
     "user_tz": -180
    },
    "id": "IJOCa0FE4Uit"
   },
   "outputs": [],
   "source": [
    "regr = sk.linear_model.LinearRegression()\n",
    "\n",
    "regr.fit(X, y)\n",
    "\n",
    "y_pred = regr.predict(X)"
   ]
  },
  {
   "cell_type": "code",
   "execution_count": 10,
   "metadata": {
    "colab": {
     "base_uri": "https://localhost:8080/"
    },
    "executionInfo": {
     "elapsed": 67,
     "status": "ok",
     "timestamp": 1744656144848,
     "user": {
      "displayName": "Άγγελος Λαμπαδάρης",
      "userId": "00875527675193121190"
     },
     "user_tz": -180
    },
    "id": "9cEfpxsf4gd_",
    "outputId": "a4d2e6bc-eec9-4867-9aa5-3288e9a446df"
   },
   "outputs": [
    {
     "name": "stdout",
     "output_type": "stream",
     "text": [
      "Bias:  89597.90954279754\n",
      "Coefficients:  [  139.21067402 -8738.01911233]\n"
     ]
    }
   ],
   "source": [
    "print(\"Bias: \", regr.intercept_)\n",
    "print(\"Coefficients: \", regr.coef_)"
   ]
  },
  {
   "cell_type": "code",
   "execution_count": 11,
   "metadata": {
    "colab": {
     "base_uri": "https://localhost:8080/"
    },
    "executionInfo": {
     "elapsed": 75,
     "status": "ok",
     "timestamp": 1744656144956,
     "user": {
      "displayName": "Άγγελος Λαμπαδάρης",
      "userId": "00875527675193121190"
     },
     "user_tz": -180
    },
    "id": "O5VO7JLiIeRo",
    "outputId": "a524a127-6ff2-4fb0-e19a-22b8cc801ac5"
   },
   "outputs": [
    {
     "name": "stdout",
     "output_type": "stream",
     "text": [
      "Least Squares estimates:  [  140.86108621 16978.19105903]\n"
     ]
    }
   ],
   "source": [
    "lse = np.linalg.inv(X.T @ X) @ X.T @ y\n",
    "\n",
    "# in case X was not invertible (or the output of this equation could be wrong) we can also verify it with the following equation:\n",
    "safe_lse = np.linalg.pinv(X) @ y\n",
    "\n",
    "if lse.all() != safe_lse.all():\n",
    "    print('Least Squares estimates with pseudo-inverse: ', safe_lse)\n",
    "else:\n",
    "    print('Least Squares estimates: ', lse)\n",
    "\n",
    "# 'lse found at: https://pythonnumericalmethods.studentorg.berkeley.edu/notebooks/chapter16.04-Least-Squares-Regression-in-Python.html'"
   ]
  },
  {
   "cell_type": "markdown",
   "metadata": {
    "id": "dYxpgUF9k455"
   },
   "source": [
    "## **The Boston Housing Dataset**\n"
   ]
  },
  {
   "cell_type": "code",
   "execution_count": 12,
   "metadata": {
    "colab": {
     "base_uri": "https://localhost:8080/",
     "height": 206
    },
    "executionInfo": {
     "elapsed": 898,
     "status": "ok",
     "timestamp": 1744656145855,
     "user": {
      "displayName": "Άγγελος Λαμπαδάρης",
      "userId": "00875527675193121190"
     },
     "user_tz": -180
    },
    "id": "01ci9Y-2cfgP",
    "outputId": "cddfd2b9-b1df-43b6-e22f-ade395e2809f"
   },
   "outputs": [
    {
     "data": {
      "application/vnd.google.colaboratory.intrinsic+json": {
       "summary": "{\n  \"name\": \"house\",\n  \"rows\": 506,\n  \"fields\": [\n    {\n      \"column\": \"CRIM\",\n      \"properties\": {\n        \"dtype\": \"number\",\n        \"std\": 8.720191850151599,\n        \"min\": 0.00632,\n        \"max\": 88.9762,\n        \"num_unique_values\": 484,\n        \"samples\": [\n          15.1772,\n          0.2896,\n          0.08308\n        ],\n        \"semantic_type\": \"\",\n        \"description\": \"\"\n      }\n    },\n    {\n      \"column\": \"ZN\",\n      \"properties\": {\n        \"dtype\": \"number\",\n        \"std\": 23.388876146265577,\n        \"min\": 0.0,\n        \"max\": 100.0,\n        \"num_unique_values\": 26,\n        \"samples\": [\n          25.0,\n          30.0,\n          18.0\n        ],\n        \"semantic_type\": \"\",\n        \"description\": \"\"\n      }\n    },\n    {\n      \"column\": \"INDUS\",\n      \"properties\": {\n        \"dtype\": \"number\",\n        \"std\": 6.835896498641465,\n        \"min\": 0.46,\n        \"max\": 27.74,\n        \"num_unique_values\": 76,\n        \"samples\": [\n          8.14,\n          1.47,\n          1.22\n        ],\n        \"semantic_type\": \"\",\n        \"description\": \"\"\n      }\n    },\n    {\n      \"column\": \"CHAS\",\n      \"properties\": {\n        \"dtype\": \"number\",\n        \"std\": 0.25534048090656764,\n        \"min\": 0.0,\n        \"max\": 1.0,\n        \"num_unique_values\": 2,\n        \"samples\": [\n          1.0,\n          0.0\n        ],\n        \"semantic_type\": \"\",\n        \"description\": \"\"\n      }\n    },\n    {\n      \"column\": \"NOX\",\n      \"properties\": {\n        \"dtype\": \"number\",\n        \"std\": 0.11587767566755611,\n        \"min\": 0.385,\n        \"max\": 0.871,\n        \"num_unique_values\": 81,\n        \"samples\": [\n          0.401,\n          0.538\n        ],\n        \"semantic_type\": \"\",\n        \"description\": \"\"\n      }\n    },\n    {\n      \"column\": \"RM\",\n      \"properties\": {\n        \"dtype\": \"number\",\n        \"std\": 0.7026171434153237,\n        \"min\": 3.561,\n        \"max\": 8.78,\n        \"num_unique_values\": 446,\n        \"samples\": [\n          6.849,\n          4.88\n        ],\n        \"semantic_type\": \"\",\n        \"description\": \"\"\n      }\n    },\n    {\n      \"column\": \"AGE\",\n      \"properties\": {\n        \"dtype\": \"number\",\n        \"std\": 27.999513005092375,\n        \"min\": 2.9,\n        \"max\": 100.0,\n        \"num_unique_values\": 348,\n        \"samples\": [\n          82.8,\n          88.4\n        ],\n        \"semantic_type\": \"\",\n        \"description\": \"\"\n      }\n    },\n    {\n      \"column\": \"DIS\",\n      \"properties\": {\n        \"dtype\": \"number\",\n        \"std\": 2.1057101266276104,\n        \"min\": 1.1296,\n        \"max\": 12.1265,\n        \"num_unique_values\": 412,\n        \"samples\": [\n          2.2955,\n          4.2515\n        ],\n        \"semantic_type\": \"\",\n        \"description\": \"\"\n      }\n    },\n    {\n      \"column\": \"RAD\",\n      \"properties\": {\n        \"dtype\": \"number\",\n        \"std\": 8,\n        \"min\": 1,\n        \"max\": 24,\n        \"num_unique_values\": 9,\n        \"samples\": [\n          7,\n          2\n        ],\n        \"semantic_type\": \"\",\n        \"description\": \"\"\n      }\n    },\n    {\n      \"column\": \"TAX\",\n      \"properties\": {\n        \"dtype\": \"number\",\n        \"std\": 168,\n        \"min\": 187,\n        \"max\": 711,\n        \"num_unique_values\": 66,\n        \"samples\": [\n          370,\n          666\n        ],\n        \"semantic_type\": \"\",\n        \"description\": \"\"\n      }\n    },\n    {\n      \"column\": \"PTRATIO\",\n      \"properties\": {\n        \"dtype\": \"number\",\n        \"std\": 2.164945523714446,\n        \"min\": 12.6,\n        \"max\": 22.0,\n        \"num_unique_values\": 46,\n        \"samples\": [\n          19.6,\n          15.6\n        ],\n        \"semantic_type\": \"\",\n        \"description\": \"\"\n      }\n    },\n    {\n      \"column\": \"B\",\n      \"properties\": {\n        \"dtype\": \"number\",\n        \"std\": 91.29486438415779,\n        \"min\": 0.32,\n        \"max\": 396.9,\n        \"num_unique_values\": 357,\n        \"samples\": [\n          396.24,\n          395.11\n        ],\n        \"semantic_type\": \"\",\n        \"description\": \"\"\n      }\n    },\n    {\n      \"column\": \"LSTAT\",\n      \"properties\": {\n        \"dtype\": \"number\",\n        \"std\": 7.155870815805249,\n        \"min\": 1.73,\n        \"max\": 37.97,\n        \"num_unique_values\": 438,\n        \"samples\": [\n          26.64,\n          7.51\n        ],\n        \"semantic_type\": \"\",\n        \"description\": \"\"\n      }\n    },\n    {\n      \"column\": \"MEDV\",\n      \"properties\": {\n        \"dtype\": \"number\",\n        \"std\": 9.19710408737982,\n        \"min\": 5.0,\n        \"max\": 50.0,\n        \"num_unique_values\": 229,\n        \"samples\": [\n          14.1,\n          22.5\n        ],\n        \"semantic_type\": \"\",\n        \"description\": \"\"\n      }\n    }\n  ]\n}",
       "type": "dataframe",
       "variable_name": "house"
      },
      "text/html": [
       "\n",
       "  <div id=\"df-45155ed3-ca5d-44f6-aa7e-6696a349eaa7\" class=\"colab-df-container\">\n",
       "    <div>\n",
       "<style scoped>\n",
       "    .dataframe tbody tr th:only-of-type {\n",
       "        vertical-align: middle;\n",
       "    }\n",
       "\n",
       "    .dataframe tbody tr th {\n",
       "        vertical-align: top;\n",
       "    }\n",
       "\n",
       "    .dataframe thead th {\n",
       "        text-align: right;\n",
       "    }\n",
       "</style>\n",
       "<table border=\"1\" class=\"dataframe\">\n",
       "  <thead>\n",
       "    <tr style=\"text-align: right;\">\n",
       "      <th></th>\n",
       "      <th>CRIM</th>\n",
       "      <th>ZN</th>\n",
       "      <th>INDUS</th>\n",
       "      <th>CHAS</th>\n",
       "      <th>NOX</th>\n",
       "      <th>RM</th>\n",
       "      <th>AGE</th>\n",
       "      <th>DIS</th>\n",
       "      <th>RAD</th>\n",
       "      <th>TAX</th>\n",
       "      <th>PTRATIO</th>\n",
       "      <th>B</th>\n",
       "      <th>LSTAT</th>\n",
       "      <th>MEDV</th>\n",
       "    </tr>\n",
       "  </thead>\n",
       "  <tbody>\n",
       "    <tr>\n",
       "      <th>0</th>\n",
       "      <td>0.00632</td>\n",
       "      <td>18.0</td>\n",
       "      <td>2.31</td>\n",
       "      <td>0.0</td>\n",
       "      <td>0.538</td>\n",
       "      <td>6.575</td>\n",
       "      <td>65.2</td>\n",
       "      <td>4.0900</td>\n",
       "      <td>1</td>\n",
       "      <td>296</td>\n",
       "      <td>15.3</td>\n",
       "      <td>396.90</td>\n",
       "      <td>4.98</td>\n",
       "      <td>24.0</td>\n",
       "    </tr>\n",
       "    <tr>\n",
       "      <th>1</th>\n",
       "      <td>0.02731</td>\n",
       "      <td>0.0</td>\n",
       "      <td>7.07</td>\n",
       "      <td>0.0</td>\n",
       "      <td>0.469</td>\n",
       "      <td>6.421</td>\n",
       "      <td>78.9</td>\n",
       "      <td>4.9671</td>\n",
       "      <td>2</td>\n",
       "      <td>242</td>\n",
       "      <td>17.8</td>\n",
       "      <td>396.90</td>\n",
       "      <td>9.14</td>\n",
       "      <td>21.6</td>\n",
       "    </tr>\n",
       "    <tr>\n",
       "      <th>2</th>\n",
       "      <td>0.02729</td>\n",
       "      <td>0.0</td>\n",
       "      <td>7.07</td>\n",
       "      <td>0.0</td>\n",
       "      <td>0.469</td>\n",
       "      <td>7.185</td>\n",
       "      <td>61.1</td>\n",
       "      <td>4.9671</td>\n",
       "      <td>2</td>\n",
       "      <td>242</td>\n",
       "      <td>17.8</td>\n",
       "      <td>392.83</td>\n",
       "      <td>4.03</td>\n",
       "      <td>34.7</td>\n",
       "    </tr>\n",
       "    <tr>\n",
       "      <th>3</th>\n",
       "      <td>0.03237</td>\n",
       "      <td>0.0</td>\n",
       "      <td>2.18</td>\n",
       "      <td>0.0</td>\n",
       "      <td>0.458</td>\n",
       "      <td>6.998</td>\n",
       "      <td>45.8</td>\n",
       "      <td>6.0622</td>\n",
       "      <td>3</td>\n",
       "      <td>222</td>\n",
       "      <td>18.7</td>\n",
       "      <td>394.63</td>\n",
       "      <td>2.94</td>\n",
       "      <td>33.4</td>\n",
       "    </tr>\n",
       "    <tr>\n",
       "      <th>4</th>\n",
       "      <td>0.06905</td>\n",
       "      <td>0.0</td>\n",
       "      <td>2.18</td>\n",
       "      <td>0.0</td>\n",
       "      <td>0.458</td>\n",
       "      <td>7.147</td>\n",
       "      <td>54.2</td>\n",
       "      <td>6.0622</td>\n",
       "      <td>3</td>\n",
       "      <td>222</td>\n",
       "      <td>18.7</td>\n",
       "      <td>396.90</td>\n",
       "      <td>NaN</td>\n",
       "      <td>36.2</td>\n",
       "    </tr>\n",
       "  </tbody>\n",
       "</table>\n",
       "</div>\n",
       "    <div class=\"colab-df-buttons\">\n",
       "\n",
       "  <div class=\"colab-df-container\">\n",
       "    <button class=\"colab-df-convert\" onclick=\"convertToInteractive('df-45155ed3-ca5d-44f6-aa7e-6696a349eaa7')\"\n",
       "            title=\"Convert this dataframe to an interactive table.\"\n",
       "            style=\"display:none;\">\n",
       "\n",
       "  <svg xmlns=\"http://www.w3.org/2000/svg\" height=\"24px\" viewBox=\"0 -960 960 960\">\n",
       "    <path d=\"M120-120v-720h720v720H120Zm60-500h600v-160H180v160Zm220 220h160v-160H400v160Zm0 220h160v-160H400v160ZM180-400h160v-160H180v160Zm440 0h160v-160H620v160ZM180-180h160v-160H180v160Zm440 0h160v-160H620v160Z\"/>\n",
       "  </svg>\n",
       "    </button>\n",
       "\n",
       "  <style>\n",
       "    .colab-df-container {\n",
       "      display:flex;\n",
       "      gap: 12px;\n",
       "    }\n",
       "\n",
       "    .colab-df-convert {\n",
       "      background-color: #E8F0FE;\n",
       "      border: none;\n",
       "      border-radius: 50%;\n",
       "      cursor: pointer;\n",
       "      display: none;\n",
       "      fill: #1967D2;\n",
       "      height: 32px;\n",
       "      padding: 0 0 0 0;\n",
       "      width: 32px;\n",
       "    }\n",
       "\n",
       "    .colab-df-convert:hover {\n",
       "      background-color: #E2EBFA;\n",
       "      box-shadow: 0px 1px 2px rgba(60, 64, 67, 0.3), 0px 1px 3px 1px rgba(60, 64, 67, 0.15);\n",
       "      fill: #174EA6;\n",
       "    }\n",
       "\n",
       "    .colab-df-buttons div {\n",
       "      margin-bottom: 4px;\n",
       "    }\n",
       "\n",
       "    [theme=dark] .colab-df-convert {\n",
       "      background-color: #3B4455;\n",
       "      fill: #D2E3FC;\n",
       "    }\n",
       "\n",
       "    [theme=dark] .colab-df-convert:hover {\n",
       "      background-color: #434B5C;\n",
       "      box-shadow: 0px 1px 3px 1px rgba(0, 0, 0, 0.15);\n",
       "      filter: drop-shadow(0px 1px 2px rgba(0, 0, 0, 0.3));\n",
       "      fill: #FFFFFF;\n",
       "    }\n",
       "  </style>\n",
       "\n",
       "    <script>\n",
       "      const buttonEl =\n",
       "        document.querySelector('#df-45155ed3-ca5d-44f6-aa7e-6696a349eaa7 button.colab-df-convert');\n",
       "      buttonEl.style.display =\n",
       "        google.colab.kernel.accessAllowed ? 'block' : 'none';\n",
       "\n",
       "      async function convertToInteractive(key) {\n",
       "        const element = document.querySelector('#df-45155ed3-ca5d-44f6-aa7e-6696a349eaa7');\n",
       "        const dataTable =\n",
       "          await google.colab.kernel.invokeFunction('convertToInteractive',\n",
       "                                                    [key], {});\n",
       "        if (!dataTable) return;\n",
       "\n",
       "        const docLinkHtml = 'Like what you see? Visit the ' +\n",
       "          '<a target=\"_blank\" href=https://colab.research.google.com/notebooks/data_table.ipynb>data table notebook</a>'\n",
       "          + ' to learn more about interactive tables.';\n",
       "        element.innerHTML = '';\n",
       "        dataTable['output_type'] = 'display_data';\n",
       "        await google.colab.output.renderOutput(dataTable, element);\n",
       "        const docLink = document.createElement('div');\n",
       "        docLink.innerHTML = docLinkHtml;\n",
       "        element.appendChild(docLink);\n",
       "      }\n",
       "    </script>\n",
       "  </div>\n",
       "\n",
       "\n",
       "<div id=\"df-b55e5d89-edda-4bcf-95ef-1150991aad68\">\n",
       "  <button class=\"colab-df-quickchart\" onclick=\"quickchart('df-b55e5d89-edda-4bcf-95ef-1150991aad68')\"\n",
       "            title=\"Suggest charts\"\n",
       "            style=\"display:none;\">\n",
       "\n",
       "<svg xmlns=\"http://www.w3.org/2000/svg\" height=\"24px\"viewBox=\"0 0 24 24\"\n",
       "     width=\"24px\">\n",
       "    <g>\n",
       "        <path d=\"M19 3H5c-1.1 0-2 .9-2 2v14c0 1.1.9 2 2 2h14c1.1 0 2-.9 2-2V5c0-1.1-.9-2-2-2zM9 17H7v-7h2v7zm4 0h-2V7h2v10zm4 0h-2v-4h2v4z\"/>\n",
       "    </g>\n",
       "</svg>\n",
       "  </button>\n",
       "\n",
       "<style>\n",
       "  .colab-df-quickchart {\n",
       "      --bg-color: #E8F0FE;\n",
       "      --fill-color: #1967D2;\n",
       "      --hover-bg-color: #E2EBFA;\n",
       "      --hover-fill-color: #174EA6;\n",
       "      --disabled-fill-color: #AAA;\n",
       "      --disabled-bg-color: #DDD;\n",
       "  }\n",
       "\n",
       "  [theme=dark] .colab-df-quickchart {\n",
       "      --bg-color: #3B4455;\n",
       "      --fill-color: #D2E3FC;\n",
       "      --hover-bg-color: #434B5C;\n",
       "      --hover-fill-color: #FFFFFF;\n",
       "      --disabled-bg-color: #3B4455;\n",
       "      --disabled-fill-color: #666;\n",
       "  }\n",
       "\n",
       "  .colab-df-quickchart {\n",
       "    background-color: var(--bg-color);\n",
       "    border: none;\n",
       "    border-radius: 50%;\n",
       "    cursor: pointer;\n",
       "    display: none;\n",
       "    fill: var(--fill-color);\n",
       "    height: 32px;\n",
       "    padding: 0;\n",
       "    width: 32px;\n",
       "  }\n",
       "\n",
       "  .colab-df-quickchart:hover {\n",
       "    background-color: var(--hover-bg-color);\n",
       "    box-shadow: 0 1px 2px rgba(60, 64, 67, 0.3), 0 1px 3px 1px rgba(60, 64, 67, 0.15);\n",
       "    fill: var(--button-hover-fill-color);\n",
       "  }\n",
       "\n",
       "  .colab-df-quickchart-complete:disabled,\n",
       "  .colab-df-quickchart-complete:disabled:hover {\n",
       "    background-color: var(--disabled-bg-color);\n",
       "    fill: var(--disabled-fill-color);\n",
       "    box-shadow: none;\n",
       "  }\n",
       "\n",
       "  .colab-df-spinner {\n",
       "    border: 2px solid var(--fill-color);\n",
       "    border-color: transparent;\n",
       "    border-bottom-color: var(--fill-color);\n",
       "    animation:\n",
       "      spin 1s steps(1) infinite;\n",
       "  }\n",
       "\n",
       "  @keyframes spin {\n",
       "    0% {\n",
       "      border-color: transparent;\n",
       "      border-bottom-color: var(--fill-color);\n",
       "      border-left-color: var(--fill-color);\n",
       "    }\n",
       "    20% {\n",
       "      border-color: transparent;\n",
       "      border-left-color: var(--fill-color);\n",
       "      border-top-color: var(--fill-color);\n",
       "    }\n",
       "    30% {\n",
       "      border-color: transparent;\n",
       "      border-left-color: var(--fill-color);\n",
       "      border-top-color: var(--fill-color);\n",
       "      border-right-color: var(--fill-color);\n",
       "    }\n",
       "    40% {\n",
       "      border-color: transparent;\n",
       "      border-right-color: var(--fill-color);\n",
       "      border-top-color: var(--fill-color);\n",
       "    }\n",
       "    60% {\n",
       "      border-color: transparent;\n",
       "      border-right-color: var(--fill-color);\n",
       "    }\n",
       "    80% {\n",
       "      border-color: transparent;\n",
       "      border-right-color: var(--fill-color);\n",
       "      border-bottom-color: var(--fill-color);\n",
       "    }\n",
       "    90% {\n",
       "      border-color: transparent;\n",
       "      border-bottom-color: var(--fill-color);\n",
       "    }\n",
       "  }\n",
       "</style>\n",
       "\n",
       "  <script>\n",
       "    async function quickchart(key) {\n",
       "      const quickchartButtonEl =\n",
       "        document.querySelector('#' + key + ' button');\n",
       "      quickchartButtonEl.disabled = true;  // To prevent multiple clicks.\n",
       "      quickchartButtonEl.classList.add('colab-df-spinner');\n",
       "      try {\n",
       "        const charts = await google.colab.kernel.invokeFunction(\n",
       "            'suggestCharts', [key], {});\n",
       "      } catch (error) {\n",
       "        console.error('Error during call to suggestCharts:', error);\n",
       "      }\n",
       "      quickchartButtonEl.classList.remove('colab-df-spinner');\n",
       "      quickchartButtonEl.classList.add('colab-df-quickchart-complete');\n",
       "    }\n",
       "    (() => {\n",
       "      let quickchartButtonEl =\n",
       "        document.querySelector('#df-b55e5d89-edda-4bcf-95ef-1150991aad68 button');\n",
       "      quickchartButtonEl.style.display =\n",
       "        google.colab.kernel.accessAllowed ? 'block' : 'none';\n",
       "    })();\n",
       "  </script>\n",
       "</div>\n",
       "\n",
       "    </div>\n",
       "  </div>\n"
      ],
      "text/plain": [
       "      CRIM    ZN  INDUS  CHAS    NOX     RM   AGE     DIS  RAD  TAX  PTRATIO  \\\n",
       "0  0.00632  18.0   2.31   0.0  0.538  6.575  65.2  4.0900    1  296     15.3   \n",
       "1  0.02731   0.0   7.07   0.0  0.469  6.421  78.9  4.9671    2  242     17.8   \n",
       "2  0.02729   0.0   7.07   0.0  0.469  7.185  61.1  4.9671    2  242     17.8   \n",
       "3  0.03237   0.0   2.18   0.0  0.458  6.998  45.8  6.0622    3  222     18.7   \n",
       "4  0.06905   0.0   2.18   0.0  0.458  7.147  54.2  6.0622    3  222     18.7   \n",
       "\n",
       "        B  LSTAT  MEDV  \n",
       "0  396.90   4.98  24.0  \n",
       "1  396.90   9.14  21.6  \n",
       "2  392.83   4.03  34.7  \n",
       "3  394.63   2.94  33.4  \n",
       "4  396.90    NaN  36.2  "
      ]
     },
     "execution_count": 12,
     "metadata": {},
     "output_type": "execute_result"
    }
   ],
   "source": [
    "path = '/content/drive/MyDrive/ML/HousingData.csv'\n",
    "\n",
    "house = pd.read_csv(path)\n",
    "\n",
    "house.head()"
   ]
  },
  {
   "cell_type": "code",
   "execution_count": 13,
   "metadata": {
    "executionInfo": {
     "elapsed": 15,
     "status": "ok",
     "timestamp": 1744656145870,
     "user": {
      "displayName": "Άγγελος Λαμπαδάρης",
      "userId": "00875527675193121190"
     },
     "user_tz": -180
    },
    "id": "WCW6OcSje-qS"
   },
   "outputs": [],
   "source": [
    "temp = house.to_numpy()\n",
    "\n",
    "X = temp[:,:-1]\n",
    "y = temp[:,-1]\n",
    "\n",
    "\n",
    "X = np.column_stack((np.ones((X.shape[0])),X))"
   ]
  },
  {
   "cell_type": "markdown",
   "metadata": {
    "id": "xlduObYrthDN"
   },
   "source": [
    "# **Split and clean data**"
   ]
  },
  {
   "cell_type": "code",
   "execution_count": null,
   "metadata": {
    "executionInfo": {
     "elapsed": 7,
     "status": "ok",
     "timestamp": 1744656145878,
     "user": {
      "displayName": "Άγγελος Λαμπαδάρης",
      "userId": "00875527675193121190"
     },
     "user_tz": -180
    },
    "id": "t0u0Q40KqZzP"
   },
   "outputs": [],
   "source": [
    "def clean_data_split(array, test_size, random_state):\n",
    "    \"\"\"\n",
    "    A function that seperates train from test data when taken as a unified array.\n",
    "    Args:\n",
    "    array: An array that contains all data (train and test).\n",
    "    test_size: Define the size of the test set. Takes a float (i.e. 0.1 = 10% test size).\n",
    "    random_state: set an integer as a random state for same split (reproducibility)\n",
    "    \"\"\"\n",
    "    X_train, X_test = sk.model_selection.train_test_split(array, test_size=test_size, random_state=random_state)\n",
    "    x_train = pd.DataFrame(X_train).interpolate(method='linear')\n",
    "    x_test = pd.DataFrame(X_test).interpolate(method='linear')\n",
    "    x_train = x_train.bfill().ffill()\n",
    "    x_test = x_test.bfill().ffill()\n",
    "    return x_train, x_test\n",
    "\n",
    "# found this method (.interpolate()) here: https://saturncloud.io/blog/python-pandas-how-to-remove-nan-and-inf-values/\n",
    "# it seemed more 'fair' (and more effective) regarding data manipulation (criteria to remove nan values).\n",
    "# also found: https://stackoverflow.com/questions/73879092/why-does-not-pandas-interpolate-method-works-when-having-the-consecutive-nan-val"
   ]
  },
  {
   "cell_type": "markdown",
   "metadata": {
    "id": "TBV1v1zXl6l5"
   },
   "source": [
    "# **90/10**"
   ]
  },
  {
   "cell_type": "markdown",
   "metadata": {},
   "source": [
    "In this section begins a series of test splits of the data to find an ideal split of the data. First, we have a 90% train set vs 10% test set split of data."
   ]
  },
  {
   "cell_type": "code",
   "execution_count": null,
   "metadata": {
    "executionInfo": {
     "elapsed": 38,
     "status": "ok",
     "timestamp": 1744656145917,
     "user": {
      "displayName": "Άγγελος Λαμπαδάρης",
      "userId": "00875527675193121190"
     },
     "user_tz": -180
    },
    "id": "W_a2pjzIxq7t"
   },
   "outputs": [],
   "source": [
    "def train(test_size):\n",
    "    \"\"\"\n",
    "    A function that utilizes a split function of data and prints the coefficients and the Mean Square Error (MSE) metric on the dataset when calculated with a linear regression model.\n",
    "    Args:\n",
    "    test_size: takes a float as an input, which indicates the size(percentage) of the test set.\n",
    "    \"\"\"\n",
    "    y_train, y_test = clean_data_split(y, test_size, 7)\n",
    "    y_train = y_train.to_numpy()\n",
    "    y_test = y_test.to_numpy()\n",
    "\n",
    "    x_train, x_test = clean_data_split(X, test_size, 7)\n",
    "    X_train = x_train.to_numpy()\n",
    "    X_test = x_test.to_numpy()\n",
    "\n",
    "\n",
    "    beta_train = np.linalg.pinv(X_train.T @ X_train) @ X_train.T @ y_train\n",
    "\n",
    "\n",
    "    intercept_train = beta_train[0]\n",
    "    coef_train = beta_train[1:]\n",
    "    # print('Intercept train: ', intercept_train)\n",
    "    # print('Betas train: ', '\\n', coef_train)\n",
    "\n",
    "\n",
    "    # Evaluation (train)\n",
    "    y_pred_train = X_train @ beta_train\n",
    "\n",
    "    print('Coefficient of determination: ', sk.metrics.r2_score(y_train, y_pred_train))\n",
    "    print('Mean squared error: ', sk.metrics.mean_squared_error(y_train, y_pred_train))\n",
    "\n",
    "\n",
    "    # Evaluation (test)\n",
    "    y_pred_test = X_test @ beta_train\n",
    "\n",
    "\n",
    "    print('Coefficient of determination (test): ', sk.metrics.r2_score(y_test, y_pred_test))\n",
    "    print('Mean squared error (test): ', sk.metrics.mean_squared_error(y_test, y_pred_test))"
   ]
  },
  {
   "cell_type": "code",
   "execution_count": 16,
   "metadata": {
    "colab": {
     "base_uri": "https://localhost:8080/"
    },
    "executionInfo": {
     "elapsed": 51,
     "status": "ok",
     "timestamp": 1744656145968,
     "user": {
      "displayName": "Άγγελος Λαμπαδάρης",
      "userId": "00875527675193121190"
     },
     "user_tz": -180
    },
    "id": "XHLAR-TGvTM_",
    "outputId": "ec1a7c46-24fd-4f79-9b17-815486de0e9f"
   },
   "outputs": [
    {
     "name": "stdout",
     "output_type": "stream",
     "text": [
      "Coefficient of determination:  0.726997243410358\n",
      "Mean squared error:  23.62949155221228\n",
      "Coefficient of determination (test):  0.7215549378217503\n",
      "Mean squared error (test):  17.890813571122177\n"
     ]
    }
   ],
   "source": [
    "train(0.1)"
   ]
  },
  {
   "cell_type": "markdown",
   "metadata": {
    "id": "avtp-Av-JO_B"
   },
   "source": [
    "Judging from the outcome of $R^2$ and MSE  metrics:\n",
    "\n",
    "**Coefficient of determination:**  0.726997243410358\n",
    "\n",
    "**Mean squared error:**  23.62949155221228\n",
    "\n",
    "**Coefficient of determination (test):**  0.7215549378217503\n",
    "\n",
    "**Mean squared error (test):**  17.890813571122177\n",
    "\n",
    "this split seems to work efficiently, providing an almost equal evaluation between training and test set. However, the small size of the test set is quite concerning as we don't have enough data to evaluate its performance. Consequently, a split with such a small test set and so big train set could even \"mask\" a quite possible overfitting."
   ]
  },
  {
   "cell_type": "markdown",
   "metadata": {
    "id": "uJ9GRlKHwf8A"
   },
   "source": [
    "# **80/20**"
   ]
  },
  {
   "cell_type": "code",
   "execution_count": 17,
   "metadata": {
    "colab": {
     "base_uri": "https://localhost:8080/"
    },
    "executionInfo": {
     "elapsed": 144,
     "status": "ok",
     "timestamp": 1744656146125,
     "user": {
      "displayName": "Άγγελος Λαμπαδάρης",
      "userId": "00875527675193121190"
     },
     "user_tz": -180
    },
    "id": "I4pAeefMWXwK",
    "outputId": "a1698804-9ba3-4d22-fcea-4edb339b8d9e"
   },
   "outputs": [
    {
     "name": "stdout",
     "output_type": "stream",
     "text": [
      "Coefficient of determination:  0.7608316997490375\n",
      "Mean squared error:  20.408541875458287\n",
      "Coefficient of determination (test):  0.5508567551564008\n",
      "Mean squared error (test):  36.29358586151897\n"
     ]
    }
   ],
   "source": [
    "train(0.2)"
   ]
  },
  {
   "cell_type": "markdown",
   "metadata": {
    "id": "1IvZMVQUY-Ms"
   },
   "source": [
    "The results of this training size are quite similar with the previous one. However, the lower $R^2$ score in test set indicates a possible weakness to generalization, meaning that we might actually have overfited our data. This surely means that a lower train set is a more optimal solution."
   ]
  },
  {
   "cell_type": "markdown",
   "metadata": {
    "id": "lAvpwEIrwfTv"
   },
   "source": [
    "# **70/30**"
   ]
  },
  {
   "cell_type": "code",
   "execution_count": 18,
   "metadata": {
    "colab": {
     "base_uri": "https://localhost:8080/"
    },
    "executionInfo": {
     "elapsed": 121,
     "status": "ok",
     "timestamp": 1744656146246,
     "user": {
      "displayName": "Άγγελος Λαμπαδάρης",
      "userId": "00875527675193121190"
     },
     "user_tz": -180
    },
    "id": "U0zZ14GiWfXa",
    "outputId": "c83175f9-5b8a-4d73-e316-d5816c59eb09"
   },
   "outputs": [
    {
     "name": "stdout",
     "output_type": "stream",
     "text": [
      "Coefficient of determination:  0.7533868731789164\n",
      "Mean squared error:  21.940224991640388\n",
      "Coefficient of determination (test):  0.6242726639256315\n",
      "Mean squared error (test):  27.728679841653886\n"
     ]
    }
   ],
   "source": [
    "train(0.3)"
   ]
  },
  {
   "cell_type": "markdown",
   "metadata": {
    "id": "_qJdIAvYZslM"
   },
   "source": [
    "In this instance we obtain a better result than the previous one: test set has a score closer to the training set. Even though the test evaluation results are not the best in all the possible splits (i.e. 90/10), it seems as a more \"natural\" split in general: while training set size is quite sufficient, the model seems able to generalize in order to predict a good outcome while also having a sufficient test set to evaluate clearly. Furthermore, in a ratio as this one, I think that we don't have to worry about an overfitting scenario anymore."
   ]
  },
  {
   "cell_type": "markdown",
   "metadata": {
    "id": "5oRZOFxrweRn"
   },
   "source": [
    "# **50/50**"
   ]
  },
  {
   "cell_type": "code",
   "execution_count": 19,
   "metadata": {
    "colab": {
     "base_uri": "https://localhost:8080/"
    },
    "executionInfo": {
     "elapsed": 143,
     "status": "ok",
     "timestamp": 1744656146417,
     "user": {
      "displayName": "Άγγελος Λαμπαδάρης",
      "userId": "00875527675193121190"
     },
     "user_tz": -180
    },
    "id": "xqDxoeXvWhDl",
    "outputId": "f3af3589-8309-42cf-9d90-3f9f7c86df0c"
   },
   "outputs": [
    {
     "name": "stdout",
     "output_type": "stream",
     "text": [
      "Coefficient of determination:  0.792333420318353\n",
      "Mean squared error:  17.010454731884337\n",
      "Coefficient of determination (test):  0.5931297653705667\n",
      "Mean squared error (test):  35.14202346754178\n"
     ]
    }
   ],
   "source": [
    "train(0.5)"
   ]
  },
  {
   "cell_type": "markdown",
   "metadata": {
    "id": "rOJdlqCEcFE5"
   },
   "source": [
    "The last instance provides us with some unexpected results: while the test metrics are quite expected (underfitting), we have the best results in training, better than the ones with bigger training size. This might happen due to homogenous data (maybe interpolation played a part there too), which led to an ocassion like this. To put it differently, train set was probably small enough to fit just right, but the rest of the data (test set) could not be predicted. All in all, this seems more like a \"risky\" split of the data, an approach that will probably not return good results in train especially in more complex datasets/scenarios."
   ]
  }
 ],
 "metadata": {
  "colab": {
   "authorship_tag": "ABX9TyMS+X+Fk5GG5T22l3UFxN26",
   "collapsed_sections": [
    "EJbMsH3JkWro"
   ],
   "mount_file_id": "1xA4Ikr69bHUxh7NPw7H2my69_3Di9pQp",
   "provenance": []
  },
  "kernelspec": {
   "display_name": "Python 3",
   "name": "python3"
  },
  "language_info": {
   "name": "python"
  }
 },
 "nbformat": 4,
 "nbformat_minor": 0
}
